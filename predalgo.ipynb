{
 "cells": [
  {
   "cell_type": "code",
   "execution_count": null,
   "metadata": {
    "id": "0NHBC7YIh-YO"
   },
   "outputs": [],
   "source": [
    "import pandas as pd\n",
    "from sklearn.model_selection import train_test_split\n",
    "from sklearn.linear_model import LinearRegression\n",
    "from sklearn.metrics import mean_squared_error, mean_absolute_error\n",
    "import numpy as np\n",
    "import matplotlib.pyplot as plt\n",
    "import seaborn as sns"
   ]
  },
  {
   "cell_type": "code",
   "execution_count": null,
   "metadata": {
    "colab": {
     "base_uri": "https://localhost:8080/",
     "height": 0
    },
    "id": "KMdm0XPgiB8C",
    "outputId": "cfbe3a2b-bc0f-459e-8d08-78be29eaf14f"
   },
   "outputs": [],
   "source": [
    "# Loading our data\n",
    "data = pd.read_csv(\"./dataset/Real estate.csv\")\n",
    "print(data.columns)"
   ]
  },
  {
   "cell_type": "code",
   "execution_count": null,
   "metadata": {
    "colab": {
     "base_uri": "https://localhost:8080/",
     "height": 0
    },
    "id": "rTtTJESviEG3",
    "outputId": "e3e44b64-b3b7-4453-ed4c-567a9ae78c17"
   },
   "outputs": [],
   "source": [
    "# Step 3: Data preprocessing\n",
    "# Check for missing values\n",
    "missing_values = data.isnull().sum()\n",
    "print(\"Missing values:\")\n",
    "print(missing_values)"
   ]
  },
  {
   "cell_type": "code",
   "execution_count": null,
   "metadata": {
    "colab": {
     "base_uri": "https://localhost:8080/",
     "height": 0
    },
    "id": "ZD8W50jXiHQY",
    "outputId": "dc5e675f-3a5a-4f2e-8c6d-a6af3be7d3e0"
   },
   "outputs": [],
   "source": [
    "# Check data types of columns\n",
    "data_types = data.dtypes\n",
    "print(\"\\nData types:\")\n",
    "print(data_types)"
   ]
  },
  {
   "cell_type": "code",
   "execution_count": null,
   "metadata": {
    "id": "VETd6Ac0iJ93"
   },
   "outputs": [],
   "source": [
    "# Splitting features & target variable\n",
    "X = data.drop(columns=['No', 'Y house price of unit area'])\n",
    "Y = data['Y house price of unit area']"
   ]
  },
  {
   "cell_type": "code",
   "execution_count": null,
   "metadata": {
    "id": "jPziPW7-iNCe"
   },
   "outputs": [],
   "source": [
    "# Step 4: Split the data\n",
    "X_train, X_test, Y_train, Y_test = train_test_split(X, Y, test_size=0.2, random_state=42)"
   ]
  },
  {
   "cell_type": "code",
   "execution_count": null,
   "metadata": {
    "colab": {
     "base_uri": "https://localhost:8080/",
     "height": 74
    },
    "id": "yYMDamBBiPjd",
    "outputId": "19729352-79e1-46ab-9046-e935302b444e"
   },
   "outputs": [],
   "source": [
    "# Step 5: Model training\n",
    "model = LinearRegression()\n",
    "model.fit(X_train, Y_train)"
   ]
  },
  {
   "cell_type": "code",
   "execution_count": null,
   "metadata": {
    "colab": {
     "base_uri": "https://localhost:8080/",
     "height": 0
    },
    "id": "7umCX3apiiLP",
    "outputId": "cd7de8be-ec21-419e-81a4-d4c54889412f"
   },
   "outputs": [],
   "source": [
    "# Step 6: Model evaluation\n",
    "Y_pred = model.predict(X_test)\n",
    "\n",
    "mse = mean_squared_error(Y_test, Y_pred)\n",
    "mae = mean_absolute_error(Y_test, Y_pred)\n",
    "rmse = np.sqrt(mse)\n",
    "\n",
    "print(\"Mean Squared Error:\", mse)\n",
    "print(\"Mean Absolute Error:\", mae)\n",
    "print(\"Root Mean Squared Error:\", rmse)"
   ]
  },
  {
   "cell_type": "code",
   "execution_count": null,
   "metadata": {
    "colab": {
     "base_uri": "https://localhost:8080/",
     "height": 564
    },
    "id": "zw_Lnb4Pikha",
    "outputId": "83689e44-4ec5-42ff-8c51-717ed926b928"
   },
   "outputs": [],
   "source": [
    "# Visualize predicted vs actual house prices\n",
    "plt.figure(figsize=(10, 6))\n",
    "plt.scatter(Y_test, Y_pred, alpha=0.5)\n",
    "plt.xlabel(\"Actual House Prices\")\n",
    "plt.ylabel(\"Predicted House Prices\")\n",
    "plt.title(\"Actual vs Predicted House Prices\")\n",
    "plt.show()"
   ]
  },
  {
   "cell_type": "code",
   "execution_count": null,
   "metadata": {
    "colab": {
     "base_uri": "https://localhost:8080/",
     "height": 564
    },
    "id": "sVWpbt2VinPh",
    "outputId": "9cdc5617-114d-43af-addc-b29c0b829293"
   },
   "outputs": [],
   "source": [
    "# Feature importances\n",
    "importances = pd.Series(model.coef_, index=X.columns)\n",
    "importances_sorted = importances.abs().sort_values(ascending=False)\n",
    "plt.figure(figsize=(10, 6))\n",
    "importances_sorted.plot(kind='barh')\n",
    "plt.xlabel(\"Feature Importance\")\n",
    "plt.ylabel(\"Features\")\n",
    "plt.title(\"Feature Importances\")\n",
    "plt.show()"
   ]
  },
  {
   "cell_type": "code",
   "execution_count": null,
   "metadata": {
    "colab": {
     "base_uri": "https://localhost:8080/",
     "height": 0
    },
    "id": "krFxUaf5jA5H",
    "outputId": "53fab62a-875a-4209-c986-9c1b56062ff3"
   },
   "outputs": [],
   "source": [
    "# Step 7: Interpretation\n",
    "coefficients = pd.DataFrame({'feature': X.columns, 'coefficient': model.coef_})\n",
    "print(\"\\nCoefficients:\")\n",
    "print(coefficients)"
   ]
  },
  {
   "cell_type": "code",
   "execution_count": null,
   "metadata": {},
   "outputs": [],
   "source": []
  }
 ],
 "metadata": {
  "colab": {
   "provenance": []
  },
  "kernelspec": {
   "display_name": "Python 3",
   "language": "python",
   "name": "python3"
  },
  "language_info": {
   "codemirror_mode": {
    "name": "ipython",
    "version": 3
   },
   "file_extension": ".py",
   "mimetype": "text/x-python",
   "name": "python",
   "nbconvert_exporter": "python",
   "pygments_lexer": "ipython3",
   "version": "3.8.8"
  }
 },
 "nbformat": 4,
 "nbformat_minor": 1
}
